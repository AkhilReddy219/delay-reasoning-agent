{
 "cells": [
  {
   "cell_type": "code",
   "execution_count": 3,
   "id": "3236d02d",
   "metadata": {},
   "outputs": [
    {
     "name": "stdout",
     "output_type": "stream",
     "text": [
      "{'Hub1': [{'event': 'STOP_START', 'location': 'Hub1', 'timestamp': '2025-06-25T10:50:00'}, {'event': 'STOP_END', 'location': 'Hub1', 'timestamp': '2025-06-25T11:15:00'}], 'Hub2': [{'event': 'STOP_START', 'location': 'Hub2', 'timestamp': '2025-06-25T12:10:00'}, {'event': 'STOP_END', 'location': 'Hub2', 'timestamp': '2025-06-25T12:50:00'}]}\n"
     ]
    }
   ],
   "source": [
    "import json\n",
    "with open(\"data/dummy_shipment.json\") as f:\n",
    "    shipment_data = json.load(f)\n",
    "\n",
    "events = events = shipment_data[\"event_log\"] \n",
    "location_events = {}\n",
    "for e in events:\n",
    "    loc = e[\"location\"]\n",
    "    location_events.setdefault(loc, []).append(e)\n",
    "\n",
    "print(location_events)"
   ]
  }
 ],
 "metadata": {
  "kernelspec": {
   "display_name": "Python 3",
   "language": "python",
   "name": "python3"
  },
  "language_info": {
   "codemirror_mode": {
    "name": "ipython",
    "version": 3
   },
   "file_extension": ".py",
   "mimetype": "text/x-python",
   "name": "python",
   "nbconvert_exporter": "python",
   "pygments_lexer": "ipython3",
   "version": "3.13.4"
  }
 },
 "nbformat": 4,
 "nbformat_minor": 5
}
